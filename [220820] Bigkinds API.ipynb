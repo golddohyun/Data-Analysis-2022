{
 "cells": [
  {
   "cell_type": "code",
   "execution_count": 20,
   "id": "f23e4540",
   "metadata": {},
   "outputs": [],
   "source": [
    "import requests\n",
    "import json\n",
    "import pandas as pd\n",
    "import numpy as np\n",
    "import jsonlines\n",
    "import re\n",
    "import pprint\n",
    "\n",
    "\n",
    "NEWS_LIST_URL = \"http://tools.kinds.or.kr:8888/search/news\"\n",
    "NEWS_LIST_PAYLOAD = {\"indexName\":\"news\",\n",
    "                     \"request_id\" : \"fd419682-7b55-4253-b971-5be53df4742a\",\n",
    "           \"searchKey\":\"\",\n",
    "           \"searchKeys\":[{}],\n",
    "           \"byLine\":\"\",\n",
    "           \"searchFilterType\":\"1\",\n",
    "           \"searchScopeType\":\"1\",\n",
    "           \"searchSortType\":\"date\",\n",
    "           \"sortMethod\":\"date\",\n",
    "           \"mainTodayPersonYn\":\"\",\n",
    "           \"startDate\":\"2019-12-22\",\n",
    "           \"endDate\":\"2020-03-22\",\n",
    "           \"newsIds\":None,\n",
    "           \"categoryCodes\":[\"001000000\",\"001005000\",\"001001000\",\"001004000\",\"001003000\",\"001007000\",\"001002000\",\"001006000\",\"002000000\",\"002004000\",\"002010000\",\"002008000\",\"002014000\",\"002011000\",\"002009000\",\"002005000\",\"002001000\",\"002012000\",\"002006000\",\"002002000\",\"002007000\",\"002003000\",\"002013000\",\"003000000\",\"003007000\",\"003003000\",\"003006000\",\"003002000\",\"003009000\",\"003001000\",\"003005000\",\"003010000\",\"003008000\",\"003004000\",\"004000000\",\"004002000\",\"004011000\",\"004006000\",\"004003000\",\"004007000\",\"004010000\",\"004004000\",\"004008000\",\"004001000\",\"004009000\",\"004005000\",\"008000000\",\"008005000\",\"008001000\",\"008004000\",\"008003000\",\"008006000\",\"008002000\"],\n",
    "           \"providerCodes\":[\"01100101\",\"01100201\",\"01100301\",\"01100401\",\"01100501\",\"01100611\",\"01100701\",\"01100801\",\"01100901\",\"01101001\",\"01101101\"],\n",
    "           \"incidentCodes\":[],\n",
    "           \"networkNodeType\":\"\",\n",
    "           \"topicOrigin\":\"\",\n",
    "           \"dateCodes\":[],\n",
    "           \"startNo\":1,\n",
    "           \"resultNumber\":\"1000\",\n",
    "           \"isTmUsable\":True,\n",
    "           \"isNotTmUsable\":False}\n",
    "\n",
    "NEWS_LIST_HEADERS = {\n",
    "  'Content-Type': 'application/json'\n",
    "}\n",
    "\n",
    "def get_news_list_by_index(start_index=1, result_len=1000):\n",
    "    NEWS_LIST_PAYLOAD.update({\"startNo\":start_index, \"resultNumber\":str(result_len)})\n",
    "    response = requests.request(\"POST\", \n",
    "                                NEWS_LIST_URL, \n",
    "                                headers=NEWS_LIST_HEADERS, \n",
    "                                data = json.dumps(NEWS_LIST_PAYLOAD))\n",
    "    return response.json()\n",
    "\n",
    "\n",
    "def get_news_detail(NEWS_ID):\n",
    "    url = f\"https://www.bigkinds.or.kr/news/detailView.do?docId={NEWS_ID}&returnCnt=1\"\n",
    "    response = requests.request(\"GET\", url)\n",
    "    return response.json()\n",
    "\n",
    "def write_jsonl(JSON_ARR, filename='output.jsonl'):\n",
    "    with jsonlines.open(filename, mode='a') as writer:\n",
    "        writer.write_all(JSON_ARR)"
   ]
  },
  {
   "cell_type": "code",
   "execution_count": 21,
   "id": "1c07ee68",
   "metadata": {},
   "outputs": [],
   "source": [
    "dfArr = []\n",
    "for i in range(1,101):\n",
    "    result = get_news_list_by_index(i)\n",
    "    dfArr.append(pd.json_normalize(result))"
   ]
  },
  {
   "cell_type": "code",
   "execution_count": 26,
   "id": "da74521a",
   "metadata": {},
   "outputs": [
    {
     "data": {
      "text/plain": [
       "[                             request_id  result              reason\n",
       " 0  fd419682-7b55-4253-b971-5be53df4742a      -1  Blank Access Key!:,\n",
       "                              request_id  result              reason\n",
       " 0  fd419682-7b55-4253-b971-5be53df4742a      -1  Blank Access Key!:,\n",
       "                              request_id  result              reason\n",
       " 0  fd419682-7b55-4253-b971-5be53df4742a      -1  Blank Access Key!:]"
      ]
     },
     "execution_count": 26,
     "metadata": {},
     "output_type": "execute_result"
    }
   ],
   "source": [
    "dfArr[:3]"
   ]
  }
 ],
 "metadata": {
  "kernelspec": {
   "display_name": "Python 3 (ipykernel)",
   "language": "python",
   "name": "python3"
  },
  "language_info": {
   "codemirror_mode": {
    "name": "ipython",
    "version": 3
   },
   "file_extension": ".py",
   "mimetype": "text/x-python",
   "name": "python",
   "nbconvert_exporter": "python",
   "pygments_lexer": "ipython3",
   "version": "3.9.12"
  }
 },
 "nbformat": 4,
 "nbformat_minor": 5
}
